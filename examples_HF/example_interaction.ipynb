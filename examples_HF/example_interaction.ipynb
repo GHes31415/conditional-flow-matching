{
 "cells": [
  {
   "cell_type": "markdown",
   "metadata": {},
   "source": [
    "Example for interaction potential \n",
    "$$\n",
    "w(x-y) = \\frac{1}{||x-y||^2+1}\n",
    "$$"
   ]
  },
  {
   "cell_type": "code",
   "execution_count": 1,
   "metadata": {},
   "outputs": [],
   "source": [
    "import math\n",
    "import os\n",
    "import time\n",
    "\n",
    "import matplotlib.pyplot as plt\n",
    "import numpy as np\n",
    "import ot as pot\n",
    "import torch\n",
    "from torch.distributions.multivariate_normal import MultivariateNormal\n",
    "from torch.utils.tensorboard import SummaryWriter\n",
    "\n",
    "import torchdyn\n",
    "from torchdyn.core import NeuralODE\n",
    "from torchdyn.datasets import generate_moons\n",
    "\n",
    "from torchcfm.conditional_flow_matching import *\n",
    "from models_v2 import *\n",
    "from torchcfm.utils import *\n",
    "from torchcfm.optimal_transport import OTPlanSampler\n",
    "\n",
    "import scipy as sp\n",
    "\n",
    "from tqdm import tqdm\n",
    "import imageio\n",
    "\n",
    "from utils_hf import *\n",
    "\n",
    "savedir = \"models/inter_pot_8gauss_moon\"\n",
    "os.makedirs(savedir, exist_ok=True)\n",
    "\n"
   ]
  },
  {
   "cell_type": "markdown",
   "metadata": {},
   "source": [
    "The dynamics for the means are linear. The dynamics of the stds are given by \n",
    "$$\n",
    "\\alpha'' = \\int_{R^2}\\frac{||z_1-z_2||^2}{(\\alpha^2||z_1-z_2||^2+1)^2}d\\lambda(z_1)d\\lambda(z_2)\n",
    "$$\n",
    "with $d\\lambda$ normal distributions"
   ]
  },
  {
   "cell_type": "code",
   "execution_count": null,
   "metadata": {},
   "outputs": [],
   "source": [
    "# Inital sigma \n",
    "sigma  = 0.5\n",
    "\n"
   ]
  }
 ],
 "metadata": {
  "kernelspec": {
   "display_name": "Hamiltonian_Flows_Wass",
   "language": "python",
   "name": "python3"
  },
  "language_info": {
   "codemirror_mode": {
    "name": "ipython",
    "version": 3
   },
   "file_extension": ".py",
   "mimetype": "text/x-python",
   "name": "python",
   "nbconvert_exporter": "python",
   "pygments_lexer": "ipython3",
   "version": "3.10.13"
  }
 },
 "nbformat": 4,
 "nbformat_minor": 2
}
